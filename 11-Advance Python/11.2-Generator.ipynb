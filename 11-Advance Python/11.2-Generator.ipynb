{
 "cells": [
  {
   "cell_type": "markdown",
   "metadata": {},
   "source": [
    "## Generators\n",
    "Generators are a simpler way to create iterators, They use the yield keyword to produce a series of values lazily, which means they generate  values on the fly and do not store them in memory"
   ]
  },
  {
   "cell_type": "code",
   "execution_count": 1,
   "metadata": {},
   "outputs": [],
   "source": [
    "def square(n):\n",
    "        for i in range(3):\n",
    "                yield i**2"
   ]
  },
  {
   "cell_type": "code",
   "execution_count": 2,
   "metadata": {},
   "outputs": [
    {
     "data": {
      "text/plain": [
       "<generator object square at 0x00000211AF094380>"
      ]
     },
     "execution_count": 2,
     "metadata": {},
     "output_type": "execute_result"
    }
   ],
   "source": [
    "square(3)"
   ]
  },
  {
   "cell_type": "code",
   "execution_count": 3,
   "metadata": {},
   "outputs": [
    {
     "name": "stdout",
     "output_type": "stream",
     "text": [
      "0\n",
      "1\n",
      "4\n"
     ]
    }
   ],
   "source": [
    "for i in square(3):\n",
    "        print(i)"
   ]
  },
  {
   "cell_type": "code",
   "execution_count": 5,
   "metadata": {},
   "outputs": [],
   "source": [
    "def my_generator():\n",
    "        yield 1\n",
    "        yield 2\n",
    "        yield 3"
   ]
  },
  {
   "cell_type": "code",
   "execution_count": 6,
   "metadata": {},
   "outputs": [
    {
     "data": {
      "text/plain": [
       "<generator object my_generator at 0x00000211AF157480>"
      ]
     },
     "execution_count": 6,
     "metadata": {},
     "output_type": "execute_result"
    }
   ],
   "source": [
    "gen  = my_generator()\n",
    "gen"
   ]
  },
  {
   "cell_type": "code",
   "execution_count": 7,
   "metadata": {},
   "outputs": [
    {
     "data": {
      "text/plain": [
       "1"
      ]
     },
     "execution_count": 7,
     "metadata": {},
     "output_type": "execute_result"
    }
   ],
   "source": [
    "next(gen)"
   ]
  },
  {
   "cell_type": "code",
   "execution_count": 8,
   "metadata": {},
   "outputs": [
    {
     "name": "stdout",
     "output_type": "stream",
     "text": [
      "2\n",
      "3\n"
     ]
    }
   ],
   "source": [
    "for i in gen:\n",
    "        print(i)"
   ]
  },
  {
   "cell_type": "markdown",
   "metadata": {},
   "source": [
    "## Practical Example: Reading Large Files\n",
    "Generators are particularly useful for reading large files because they allow you to process one line at a time without loading the entire file into memory"
   ]
  },
  {
   "cell_type": "code",
   "execution_count": 11,
   "metadata": {},
   "outputs": [],
   "source": [
    "def read_large_file(file_path):\n",
    "        with open(file_path, 'r')  as file:\n",
    "                for line in file:\n",
    "                        yield line"
   ]
  },
  {
   "cell_type": "code",
   "execution_count": 12,
   "metadata": {},
   "outputs": [
    {
     "name": "stdout",
     "output_type": "stream",
     "text": [
      "Droupadi Murmu (Hindi: [d̪ɾɔːpəd̪iː mʊɾmuː], born Durgi Biranchi Tudu, Hindi: [d̪ʊɾɡiː bɪɾəɲtʃiː t̪ʊd̪uː]; born 20 June 1958) is an Indian politician who has been serving as the president of India since 2022. She won the 2022 presidential election as the Bharatiya Janata Party (BJP) candidate.[2] She is the first person belonging to a tribal community and also the second woman, after Pratibha Patil, to hold the office. She is also the youngest person to occupy the post (at 64) and the first president born in independent India.[3][4]\n",
      "\n",
      "Previously, she served as the governor of Jharkhand from 2015 to 2021, being the longest-serving governor for that state, as a member of the Odisha Legislative Assembly from Rairangpur Assembly constituency from 2000 to 2009, and as minister of State (Independent Charge), Government of Odisha, from 2000 to 2004. Before entering politics, she worked as a clerk in the State Irrigation and Power Department from 1979 to 1983, and then as a teacher in Rairangpur from 1994 until 1997.[5]\n"
     ]
    }
   ],
   "source": [
    "file_path = 'large_file.txt'\n",
    "for line in read_large_file(file_path):\n",
    "        print(line.strip())"
   ]
  }
 ],
 "metadata": {
  "kernelspec": {
   "display_name": "Python 3",
   "language": "python",
   "name": "python3"
  },
  "language_info": {
   "codemirror_mode": {
    "name": "ipython",
    "version": 3
   },
   "file_extension": ".py",
   "mimetype": "text/x-python",
   "name": "python",
   "nbconvert_exporter": "python",
   "pygments_lexer": "ipython3",
   "version": "3.12.0"
  }
 },
 "nbformat": 4,
 "nbformat_minor": 2
}
