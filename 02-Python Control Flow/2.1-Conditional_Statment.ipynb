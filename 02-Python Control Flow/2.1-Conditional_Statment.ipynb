{
 "cells": [
  {
   "cell_type": "markdown",
   "metadata": {},
   "source": [
    "## Conditional Statements (if, elif, else)"
   ]
  },
  {
   "cell_type": "code",
   "execution_count": 1,
   "metadata": {},
   "outputs": [
    {
     "name": "stdout",
     "output_type": "stream",
     "text": [
      "You are allowed to vote in the elections\n"
     ]
    }
   ],
   "source": [
    "# if statement \n",
    "age = 30\n",
    "if age>=18:\n",
    "        print(\"You are allowed to vote in the elections\")\n",
    "        "
   ]
  },
  {
   "cell_type": "code",
   "execution_count": 4,
   "metadata": {},
   "outputs": [
    {
     "name": "stdout",
     "output_type": "stream",
     "text": [
      "You are senior \n"
     ]
    }
   ],
   "source": [
    "# else statement\n",
    "# The else statement is executes the block if the condition in the if statement is False\n",
    "\n",
    "if age>=50:\n",
    "        pass\n",
    "else:\n",
    "        print(\"You are senior \")"
   ]
  },
  {
   "cell_type": "code",
   "execution_count": 2,
   "metadata": {},
   "outputs": [
    {
     "name": "stdout",
     "output_type": "stream",
     "text": [
      "Your are an adult\n"
     ]
    }
   ],
   "source": [
    "# elif statement\n",
    "age = 20\n",
    "\n",
    "if age<=13:\n",
    "        print(\"You are a child\")\n",
    "elif age<18:\n",
    "        print(\"You are a teenager\")\n",
    "else:\n",
    "        print(\"Your are an adult\")"
   ]
  },
  {
   "cell_type": "code",
   "execution_count": 3,
   "metadata": {},
   "outputs": [
    {
     "name": "stdout",
     "output_type": "stream",
     "text": [
      "89 is positive\n",
      "89 is odd\n"
     ]
    }
   ],
   "source": [
    "# Nested Conditional statements\n",
    "\n",
    "number = int(input(\"Enter the number:\"))\n",
    "if number>0:\n",
    "        print(f\"{number} is positive\")\n",
    "        if number%2==0:\n",
    "                print(f\"{number} is even\")\n",
    "        else:\n",
    "                print(f\"{number} is odd\")\n",
    "else:\n",
    "        print(f\"{number} is zero or negative\")\n"
   ]
  },
  {
   "cell_type": "code",
   "execution_count": 5,
   "metadata": {},
   "outputs": [
    {
     "name": "stdout",
     "output_type": "stream",
     "text": [
      "2024 is a leap year\n"
     ]
    }
   ],
   "source": [
    "# Practical Example\n",
    "year = int(input(\"Enter the year\"))\n",
    "if (year%4==0):\n",
    "        if (year%100==0):\n",
    "                if (year%400==0):\n",
    "                        print(year, \"is a leap year\")\n",
    "                else:\n",
    "                        print(year, \"is not a leap year\")\n",
    "        else:\n",
    "                print(year, \"is a leap year\")\n",
    "else:\n",
    "        print(year, \"is not a leap year\")\n",
    "        "
   ]
  }
 ],
 "metadata": {
  "kernelspec": {
   "display_name": "Python 3",
   "language": "python",
   "name": "python3"
  },
  "language_info": {
   "codemirror_mode": {
    "name": "ipython",
    "version": 3
   },
   "file_extension": ".py",
   "mimetype": "text/x-python",
   "name": "python",
   "nbconvert_exporter": "python",
   "pygments_lexer": "ipython3",
   "version": "3.12.0"
  }
 },
 "nbformat": 4,
 "nbformat_minor": 2
}
