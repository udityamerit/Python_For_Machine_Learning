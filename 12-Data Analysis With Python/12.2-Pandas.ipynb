{
 "cells": [
  {
   "cell_type": "markdown",
   "id": "087be60a",
   "metadata": {},
   "source": [
    "# Pandas-DataFrame And Series"
   ]
  },
  {
   "cell_type": "markdown",
   "id": "03b6f667",
   "metadata": {},
   "source": [
    "Pandas is a powerful data manipulation library in python, widely used for data analysis and data cleaning. It provides two primary data structures: Series and DataFrame. A series is a one-dimensional array-like object, while a DataFrame is a two-dimensional, size-mutable, and potentially heterogeneous tabular data structure with labeled axes(rows and columns)"
   ]
  },
  {
   "cell_type": "code",
   "execution_count": 1,
   "id": "e0b85741",
   "metadata": {},
   "outputs": [],
   "source": [
    "import pandas as pd"
   ]
  },
  {
   "cell_type": "code",
   "execution_count": 2,
   "id": "3955e558",
   "metadata": {},
   "outputs": [
    {
     "name": "stdout",
     "output_type": "stream",
     "text": [
      "Series\n",
      " 0    1\n",
      "1    2\n",
      "2    3\n",
      "3    4\n",
      "4    5\n",
      "dtype: int64\n"
     ]
    }
   ],
   "source": [
    "data = [1,2,3,4,5]\n",
    "series= pd.Series(data)\n",
    "print(\"Series\\n\", series)"
   ]
  },
  {
   "cell_type": "code",
   "execution_count": 3,
   "id": "704bd228",
   "metadata": {},
   "outputs": [
    {
     "data": {
      "text/plain": [
       "a    10\n",
       "b    20\n",
       "c    30\n",
       "dtype: int64"
      ]
     },
     "execution_count": 3,
     "metadata": {},
     "output_type": "execute_result"
    }
   ],
   "source": [
    "data = [10,20,30]\n",
    "index = ['a','b','c']\n",
    "pd.Series(data, index = index)"
   ]
  },
  {
   "cell_type": "code",
   "execution_count": 32,
   "id": "0a285039",
   "metadata": {},
   "outputs": [
    {
     "name": "stdout",
     "output_type": "stream",
     "text": [
      "     Name  Age     City\n",
      "0  Uditya   20   Mumbai\n",
      "1     Ram   25  Jaunpur\n",
      "2    Jack   30   Bhopal\n",
      "<class 'pandas.core.frame.DataFrame'>\n"
     ]
    }
   ],
   "source": [
    "## Data frame\n",
    "## Creating the dataframe from the dictionary of list\n",
    "\n",
    "data = {\n",
    "        'Name': ['Uditya', 'Ram', 'Jack'],\n",
    "        'Age': [20, 25, 30],\n",
    "        'City': ['Mumbai', 'Jaunpur', 'Bhopal']\n",
    "}\n",
    "df = pd.DataFrame(data)\n",
    "print(df)\n",
    "print(type(df))"
   ]
  },
  {
   "cell_type": "code",
   "execution_count": 33,
   "id": "fac999f7",
   "metadata": {},
   "outputs": [
    {
     "data": {
      "text/plain": [
       "Name    Uditya\n",
       "Age         20\n",
       "City    Mumbai\n",
       "Name: 0, dtype: object"
      ]
     },
     "execution_count": 33,
     "metadata": {},
     "output_type": "execute_result"
    }
   ],
   "source": [
    "df.loc[0]"
   ]
  },
  {
   "cell_type": "code",
   "execution_count": 34,
   "id": "af7b9851",
   "metadata": {},
   "outputs": [
    {
     "data": {
      "text/plain": [
       "Name    Uditya\n",
       "Age         20\n",
       "City    Mumbai\n",
       "Name: 0, dtype: object"
      ]
     },
     "execution_count": 34,
     "metadata": {},
     "output_type": "execute_result"
    }
   ],
   "source": [
    "df.iloc[0]"
   ]
  },
  {
   "cell_type": "code",
   "execution_count": 26,
   "id": "a1dcec1f",
   "metadata": {},
   "outputs": [],
   "source": [
    "df = pd.read_csv('current_forecast.csv')"
   ]
  },
  {
   "cell_type": "code",
   "execution_count": 28,
   "id": "1f5db3bd",
   "metadata": {},
   "outputs": [
    {
     "data": {
      "text/html": [
       "<div>\n",
       "<style scoped>\n",
       "    .dataframe tbody tr th:only-of-type {\n",
       "        vertical-align: middle;\n",
       "    }\n",
       "\n",
       "    .dataframe tbody tr th {\n",
       "        vertical-align: top;\n",
       "    }\n",
       "\n",
       "    .dataframe thead th {\n",
       "        text-align: right;\n",
       "    }\n",
       "</style>\n",
       "<table border=\"1\" class=\"dataframe\">\n",
       "  <thead>\n",
       "    <tr style=\"text-align: right;\">\n",
       "      <th></th>\n",
       "      <th>datetime</th>\n",
       "      <th>temp</th>\n",
       "      <th>temp_min</th>\n",
       "      <th>temp_max</th>\n",
       "      <th>humidity</th>\n",
       "      <th>wind_speed</th>\n",
       "      <th>wind_deg</th>\n",
       "      <th>pressure</th>\n",
       "      <th>description</th>\n",
       "      <th>main_weather</th>\n",
       "      <th>feels_like</th>\n",
       "      <th>uv_index</th>\n",
       "      <th>visibility</th>\n",
       "      <th>rain_prob</th>\n",
       "    </tr>\n",
       "  </thead>\n",
       "  <tbody>\n",
       "    <tr>\n",
       "      <th>0</th>\n",
       "      <td>2025-05-07 17:30:00</td>\n",
       "      <td>15.17</td>\n",
       "      <td>14.80</td>\n",
       "      <td>15.17</td>\n",
       "      <td>80</td>\n",
       "      <td>3.20</td>\n",
       "      <td>226</td>\n",
       "      <td>1016</td>\n",
       "      <td>broken clouds</td>\n",
       "      <td>Clouds</td>\n",
       "      <td>14.83</td>\n",
       "      <td>5</td>\n",
       "      <td>10000</td>\n",
       "      <td>0.0</td>\n",
       "    </tr>\n",
       "    <tr>\n",
       "      <th>1</th>\n",
       "      <td>2025-05-07 20:30:00</td>\n",
       "      <td>16.13</td>\n",
       "      <td>16.13</td>\n",
       "      <td>18.04</td>\n",
       "      <td>73</td>\n",
       "      <td>3.21</td>\n",
       "      <td>221</td>\n",
       "      <td>1016</td>\n",
       "      <td>broken clouds</td>\n",
       "      <td>Clouds</td>\n",
       "      <td>15.70</td>\n",
       "      <td>5</td>\n",
       "      <td>10000</td>\n",
       "      <td>0.0</td>\n",
       "    </tr>\n",
       "    <tr>\n",
       "      <th>2</th>\n",
       "      <td>2025-05-07 23:30:00</td>\n",
       "      <td>19.50</td>\n",
       "      <td>19.50</td>\n",
       "      <td>21.67</td>\n",
       "      <td>57</td>\n",
       "      <td>4.23</td>\n",
       "      <td>189</td>\n",
       "      <td>1015</td>\n",
       "      <td>broken clouds</td>\n",
       "      <td>Clouds</td>\n",
       "      <td>18.99</td>\n",
       "      <td>5</td>\n",
       "      <td>10000</td>\n",
       "      <td>0.0</td>\n",
       "    </tr>\n",
       "    <tr>\n",
       "      <th>3</th>\n",
       "      <td>2025-05-08 02:30:00</td>\n",
       "      <td>20.06</td>\n",
       "      <td>20.06</td>\n",
       "      <td>20.06</td>\n",
       "      <td>47</td>\n",
       "      <td>3.40</td>\n",
       "      <td>248</td>\n",
       "      <td>1014</td>\n",
       "      <td>overcast clouds</td>\n",
       "      <td>Clouds</td>\n",
       "      <td>19.35</td>\n",
       "      <td>5</td>\n",
       "      <td>10000</td>\n",
       "      <td>0.0</td>\n",
       "    </tr>\n",
       "    <tr>\n",
       "      <th>4</th>\n",
       "      <td>2025-05-08 05:30:00</td>\n",
       "      <td>18.43</td>\n",
       "      <td>18.43</td>\n",
       "      <td>18.43</td>\n",
       "      <td>57</td>\n",
       "      <td>3.90</td>\n",
       "      <td>258</td>\n",
       "      <td>1015</td>\n",
       "      <td>overcast clouds</td>\n",
       "      <td>Clouds</td>\n",
       "      <td>17.82</td>\n",
       "      <td>5</td>\n",
       "      <td>10000</td>\n",
       "      <td>0.0</td>\n",
       "    </tr>\n",
       "  </tbody>\n",
       "</table>\n",
       "</div>"
      ],
      "text/plain": [
       "              datetime   temp  temp_min  temp_max  humidity  wind_speed  \\\n",
       "0  2025-05-07 17:30:00  15.17     14.80     15.17        80        3.20   \n",
       "1  2025-05-07 20:30:00  16.13     16.13     18.04        73        3.21   \n",
       "2  2025-05-07 23:30:00  19.50     19.50     21.67        57        4.23   \n",
       "3  2025-05-08 02:30:00  20.06     20.06     20.06        47        3.40   \n",
       "4  2025-05-08 05:30:00  18.43     18.43     18.43        57        3.90   \n",
       "\n",
       "   wind_deg  pressure      description main_weather  feels_like  uv_index  \\\n",
       "0       226      1016    broken clouds       Clouds       14.83         5   \n",
       "1       221      1016    broken clouds       Clouds       15.70         5   \n",
       "2       189      1015    broken clouds       Clouds       18.99         5   \n",
       "3       248      1014  overcast clouds       Clouds       19.35         5   \n",
       "4       258      1015  overcast clouds       Clouds       17.82         5   \n",
       "\n",
       "   visibility  rain_prob  \n",
       "0       10000        0.0  \n",
       "1       10000        0.0  \n",
       "2       10000        0.0  \n",
       "3       10000        0.0  \n",
       "4       10000        0.0  "
      ]
     },
     "execution_count": 28,
     "metadata": {},
     "output_type": "execute_result"
    }
   ],
   "source": [
    "df.head()\n"
   ]
  },
  {
   "cell_type": "code",
   "execution_count": 29,
   "id": "faea2aaf",
   "metadata": {},
   "outputs": [
    {
     "data": {
      "text/plain": [
       "0     15.17\n",
       "1     16.13\n",
       "2     19.50\n",
       "3     20.06\n",
       "4     18.43\n",
       "5     18.17\n",
       "6     16.58\n",
       "7     15.45\n",
       "8     16.90\n",
       "9     20.74\n",
       "10    22.40\n",
       "11    20.91\n",
       "12    17.00\n",
       "13    16.44\n",
       "14    16.12\n",
       "15    14.91\n",
       "16    14.11\n",
       "17    13.59\n",
       "18    12.35\n",
       "19    17.17\n",
       "20    14.07\n",
       "21    12.05\n",
       "22    10.34\n",
       "23     9.80\n",
       "24    11.40\n",
       "25    16.83\n",
       "26    20.43\n",
       "27    21.14\n",
       "28    18.74\n",
       "29    17.09\n",
       "30    16.04\n",
       "31    15.22\n",
       "32    16.33\n",
       "33    20.69\n",
       "34    21.85\n",
       "35    20.77\n",
       "36    17.35\n",
       "37    16.54\n",
       "38    15.47\n",
       "39    14.35\n",
       "Name: temp, dtype: float64"
      ]
     },
     "execution_count": 29,
     "metadata": {},
     "output_type": "execute_result"
    }
   ],
   "source": [
    "df['temp']"
   ]
  },
  {
   "cell_type": "code",
   "execution_count": 30,
   "id": "165aea73",
   "metadata": {},
   "outputs": [
    {
     "data": {
      "text/plain": [
       "datetime        2025-05-07 17:30:00\n",
       "temp                          15.17\n",
       "temp_min                       14.8\n",
       "temp_max                      15.17\n",
       "humidity                         80\n",
       "wind_speed                      3.2\n",
       "wind_deg                        226\n",
       "pressure                       1016\n",
       "description           broken clouds\n",
       "main_weather                 Clouds\n",
       "feels_like                    14.83\n",
       "uv_index                          5\n",
       "visibility                    10000\n",
       "rain_prob                       0.0\n",
       "Name: 0, dtype: object"
      ]
     },
     "execution_count": 30,
     "metadata": {},
     "output_type": "execute_result"
    }
   ],
   "source": [
    "## Selecting the row we use the loc function\n",
    "df.loc[0]"
   ]
  },
  {
   "cell_type": "code",
   "execution_count": 31,
   "id": "e98e0dd5",
   "metadata": {},
   "outputs": [
    {
     "data": {
      "text/plain": [
       "datetime        2025-05-07 17:30:00\n",
       "temp                          15.17\n",
       "temp_min                       14.8\n",
       "temp_max                      15.17\n",
       "humidity                         80\n",
       "wind_speed                      3.2\n",
       "wind_deg                        226\n",
       "pressure                       1016\n",
       "description           broken clouds\n",
       "main_weather                 Clouds\n",
       "feels_like                    14.83\n",
       "uv_index                          5\n",
       "visibility                    10000\n",
       "rain_prob                       0.0\n",
       "Name: 0, dtype: object"
      ]
     },
     "execution_count": 31,
     "metadata": {},
     "output_type": "execute_result"
    }
   ],
   "source": [
    "## Selecting the columns we use the iloc function\n",
    "df.iloc[0]"
   ]
  },
  {
   "cell_type": "code",
   "execution_count": 36,
   "id": "3b0cd600",
   "metadata": {},
   "outputs": [
    {
     "data": {
      "text/html": [
       "<div>\n",
       "<style scoped>\n",
       "    .dataframe tbody tr th:only-of-type {\n",
       "        vertical-align: middle;\n",
       "    }\n",
       "\n",
       "    .dataframe tbody tr th {\n",
       "        vertical-align: top;\n",
       "    }\n",
       "\n",
       "    .dataframe thead th {\n",
       "        text-align: right;\n",
       "    }\n",
       "</style>\n",
       "<table border=\"1\" class=\"dataframe\">\n",
       "  <thead>\n",
       "    <tr style=\"text-align: right;\">\n",
       "      <th></th>\n",
       "      <th>Name</th>\n",
       "      <th>Age</th>\n",
       "      <th>City</th>\n",
       "    </tr>\n",
       "  </thead>\n",
       "  <tbody>\n",
       "    <tr>\n",
       "      <th>0</th>\n",
       "      <td>Uditya</td>\n",
       "      <td>20</td>\n",
       "      <td>Mumbai</td>\n",
       "    </tr>\n",
       "    <tr>\n",
       "      <th>1</th>\n",
       "      <td>Ram</td>\n",
       "      <td>25</td>\n",
       "      <td>Jaunpur</td>\n",
       "    </tr>\n",
       "    <tr>\n",
       "      <th>2</th>\n",
       "      <td>Jack</td>\n",
       "      <td>30</td>\n",
       "      <td>Bhopal</td>\n",
       "    </tr>\n",
       "  </tbody>\n",
       "</table>\n",
       "</div>"
      ],
      "text/plain": [
       "     Name  Age     City\n",
       "0  Uditya   20   Mumbai\n",
       "1     Ram   25  Jaunpur\n",
       "2    Jack   30   Bhopal"
      ]
     },
     "execution_count": 36,
     "metadata": {},
     "output_type": "execute_result"
    }
   ],
   "source": [
    "df"
   ]
  },
  {
   "cell_type": "code",
   "execution_count": 37,
   "id": "341035aa",
   "metadata": {},
   "outputs": [
    {
     "data": {
      "text/plain": [
       "np.int64(25)"
      ]
     },
     "execution_count": 37,
     "metadata": {},
     "output_type": "execute_result"
    }
   ],
   "source": [
    "df.at[1, 'Age']"
   ]
  },
  {
   "cell_type": "code",
   "execution_count": 38,
   "id": "e3ca6433",
   "metadata": {},
   "outputs": [
    {
     "data": {
      "text/plain": [
       "'Ram'"
      ]
     },
     "execution_count": 38,
     "metadata": {},
     "output_type": "execute_result"
    }
   ],
   "source": [
    "df.at[1, 'Name']"
   ]
  },
  {
   "cell_type": "code",
   "execution_count": 39,
   "id": "605cab4f",
   "metadata": {},
   "outputs": [
    {
     "data": {
      "text/plain": [
       "'Bhopal'"
      ]
     },
     "execution_count": 39,
     "metadata": {},
     "output_type": "execute_result"
    }
   ],
   "source": [
    "df.iat[2,2]"
   ]
  },
  {
   "cell_type": "code",
   "execution_count": null,
   "id": "cecdca16",
   "metadata": {},
   "outputs": [],
   "source": [
    "### Data manipulation with dataFrame\n",
    "## Adding the column\n",
    "\n",
    "df['Salary'] = [2300,23000, 4500]"
   ]
  },
  {
   "cell_type": "code",
   "execution_count": 41,
   "id": "6b9db528",
   "metadata": {},
   "outputs": [
    {
     "data": {
      "text/html": [
       "<div>\n",
       "<style scoped>\n",
       "    .dataframe tbody tr th:only-of-type {\n",
       "        vertical-align: middle;\n",
       "    }\n",
       "\n",
       "    .dataframe tbody tr th {\n",
       "        vertical-align: top;\n",
       "    }\n",
       "\n",
       "    .dataframe thead th {\n",
       "        text-align: right;\n",
       "    }\n",
       "</style>\n",
       "<table border=\"1\" class=\"dataframe\">\n",
       "  <thead>\n",
       "    <tr style=\"text-align: right;\">\n",
       "      <th></th>\n",
       "      <th>Name</th>\n",
       "      <th>Age</th>\n",
       "      <th>City</th>\n",
       "      <th>Salary</th>\n",
       "    </tr>\n",
       "  </thead>\n",
       "  <tbody>\n",
       "    <tr>\n",
       "      <th>0</th>\n",
       "      <td>Uditya</td>\n",
       "      <td>20</td>\n",
       "      <td>Mumbai</td>\n",
       "      <td>2300</td>\n",
       "    </tr>\n",
       "    <tr>\n",
       "      <th>1</th>\n",
       "      <td>Ram</td>\n",
       "      <td>25</td>\n",
       "      <td>Jaunpur</td>\n",
       "      <td>23000</td>\n",
       "    </tr>\n",
       "    <tr>\n",
       "      <th>2</th>\n",
       "      <td>Jack</td>\n",
       "      <td>30</td>\n",
       "      <td>Bhopal</td>\n",
       "      <td>4500</td>\n",
       "    </tr>\n",
       "  </tbody>\n",
       "</table>\n",
       "</div>"
      ],
      "text/plain": [
       "     Name  Age     City  Salary\n",
       "0  Uditya   20   Mumbai    2300\n",
       "1     Ram   25  Jaunpur   23000\n",
       "2    Jack   30   Bhopal    4500"
      ]
     },
     "execution_count": 41,
     "metadata": {},
     "output_type": "execute_result"
    }
   ],
   "source": [
    "df"
   ]
  },
  {
   "cell_type": "code",
   "execution_count": 43,
   "id": "fef33122",
   "metadata": {},
   "outputs": [
    {
     "data": {
      "text/html": [
       "<div>\n",
       "<style scoped>\n",
       "    .dataframe tbody tr th:only-of-type {\n",
       "        vertical-align: middle;\n",
       "    }\n",
       "\n",
       "    .dataframe tbody tr th {\n",
       "        vertical-align: top;\n",
       "    }\n",
       "\n",
       "    .dataframe thead th {\n",
       "        text-align: right;\n",
       "    }\n",
       "</style>\n",
       "<table border=\"1\" class=\"dataframe\">\n",
       "  <thead>\n",
       "    <tr style=\"text-align: right;\">\n",
       "      <th></th>\n",
       "      <th>Name</th>\n",
       "      <th>Age</th>\n",
       "      <th>City</th>\n",
       "    </tr>\n",
       "  </thead>\n",
       "  <tbody>\n",
       "    <tr>\n",
       "      <th>0</th>\n",
       "      <td>Uditya</td>\n",
       "      <td>20</td>\n",
       "      <td>Mumbai</td>\n",
       "    </tr>\n",
       "    <tr>\n",
       "      <th>1</th>\n",
       "      <td>Ram</td>\n",
       "      <td>25</td>\n",
       "      <td>Jaunpur</td>\n",
       "    </tr>\n",
       "    <tr>\n",
       "      <th>2</th>\n",
       "      <td>Jack</td>\n",
       "      <td>30</td>\n",
       "      <td>Bhopal</td>\n",
       "    </tr>\n",
       "  </tbody>\n",
       "</table>\n",
       "</div>"
      ],
      "text/plain": [
       "     Name  Age     City\n",
       "0  Uditya   20   Mumbai\n",
       "1     Ram   25  Jaunpur\n",
       "2    Jack   30   Bhopal"
      ]
     },
     "execution_count": 43,
     "metadata": {},
     "output_type": "execute_result"
    }
   ],
   "source": [
    " ## remove the column\n",
    "df.drop('Salary', axis=1)    # axis = 1 define to search in the columns and the axis=0 is define to search in the row"
   ]
  },
  {
   "cell_type": "code",
   "execution_count": 44,
   "id": "0e1ba7b8",
   "metadata": {},
   "outputs": [
    {
     "data": {
      "text/html": [
       "<div>\n",
       "<style scoped>\n",
       "    .dataframe tbody tr th:only-of-type {\n",
       "        vertical-align: middle;\n",
       "    }\n",
       "\n",
       "    .dataframe tbody tr th {\n",
       "        vertical-align: top;\n",
       "    }\n",
       "\n",
       "    .dataframe thead th {\n",
       "        text-align: right;\n",
       "    }\n",
       "</style>\n",
       "<table border=\"1\" class=\"dataframe\">\n",
       "  <thead>\n",
       "    <tr style=\"text-align: right;\">\n",
       "      <th></th>\n",
       "      <th>Name</th>\n",
       "      <th>Age</th>\n",
       "      <th>City</th>\n",
       "      <th>Salary</th>\n",
       "    </tr>\n",
       "  </thead>\n",
       "  <tbody>\n",
       "    <tr>\n",
       "      <th>0</th>\n",
       "      <td>Uditya</td>\n",
       "      <td>20</td>\n",
       "      <td>Mumbai</td>\n",
       "      <td>2300</td>\n",
       "    </tr>\n",
       "    <tr>\n",
       "      <th>1</th>\n",
       "      <td>Ram</td>\n",
       "      <td>25</td>\n",
       "      <td>Jaunpur</td>\n",
       "      <td>23000</td>\n",
       "    </tr>\n",
       "    <tr>\n",
       "      <th>2</th>\n",
       "      <td>Jack</td>\n",
       "      <td>30</td>\n",
       "      <td>Bhopal</td>\n",
       "      <td>4500</td>\n",
       "    </tr>\n",
       "  </tbody>\n",
       "</table>\n",
       "</div>"
      ],
      "text/plain": [
       "     Name  Age     City  Salary\n",
       "0  Uditya   20   Mumbai    2300\n",
       "1     Ram   25  Jaunpur   23000\n",
       "2    Jack   30   Bhopal    4500"
      ]
     },
     "execution_count": 44,
     "metadata": {},
     "output_type": "execute_result"
    }
   ],
   "source": [
    "df"
   ]
  },
  {
   "cell_type": "code",
   "execution_count": 46,
   "id": "1a4f6e84",
   "metadata": {},
   "outputs": [],
   "source": [
    "## for changing the permanent change is the data we have to write down the  inplace = True\n",
    "df.drop('Salary', axis= 1, inplace = True)"
   ]
  },
  {
   "cell_type": "code",
   "execution_count": 47,
   "id": "f8a74903",
   "metadata": {},
   "outputs": [
    {
     "data": {
      "text/html": [
       "<div>\n",
       "<style scoped>\n",
       "    .dataframe tbody tr th:only-of-type {\n",
       "        vertical-align: middle;\n",
       "    }\n",
       "\n",
       "    .dataframe tbody tr th {\n",
       "        vertical-align: top;\n",
       "    }\n",
       "\n",
       "    .dataframe thead th {\n",
       "        text-align: right;\n",
       "    }\n",
       "</style>\n",
       "<table border=\"1\" class=\"dataframe\">\n",
       "  <thead>\n",
       "    <tr style=\"text-align: right;\">\n",
       "      <th></th>\n",
       "      <th>Name</th>\n",
       "      <th>Age</th>\n",
       "      <th>City</th>\n",
       "    </tr>\n",
       "  </thead>\n",
       "  <tbody>\n",
       "    <tr>\n",
       "      <th>0</th>\n",
       "      <td>Uditya</td>\n",
       "      <td>20</td>\n",
       "      <td>Mumbai</td>\n",
       "    </tr>\n",
       "    <tr>\n",
       "      <th>1</th>\n",
       "      <td>Ram</td>\n",
       "      <td>25</td>\n",
       "      <td>Jaunpur</td>\n",
       "    </tr>\n",
       "    <tr>\n",
       "      <th>2</th>\n",
       "      <td>Jack</td>\n",
       "      <td>30</td>\n",
       "      <td>Bhopal</td>\n",
       "    </tr>\n",
       "  </tbody>\n",
       "</table>\n",
       "</div>"
      ],
      "text/plain": [
       "     Name  Age     City\n",
       "0  Uditya   20   Mumbai\n",
       "1     Ram   25  Jaunpur\n",
       "2    Jack   30   Bhopal"
      ]
     },
     "execution_count": 47,
     "metadata": {},
     "output_type": "execute_result"
    }
   ],
   "source": [
    "df"
   ]
  },
  {
   "cell_type": "code",
   "execution_count": 48,
   "id": "3228e162",
   "metadata": {},
   "outputs": [],
   "source": [
    "## Add age to the column\n",
    "df['Age'] = df['Age']+10"
   ]
  },
  {
   "cell_type": "code",
   "execution_count": 49,
   "id": "6ed7ae03",
   "metadata": {},
   "outputs": [
    {
     "data": {
      "text/html": [
       "<div>\n",
       "<style scoped>\n",
       "    .dataframe tbody tr th:only-of-type {\n",
       "        vertical-align: middle;\n",
       "    }\n",
       "\n",
       "    .dataframe tbody tr th {\n",
       "        vertical-align: top;\n",
       "    }\n",
       "\n",
       "    .dataframe thead th {\n",
       "        text-align: right;\n",
       "    }\n",
       "</style>\n",
       "<table border=\"1\" class=\"dataframe\">\n",
       "  <thead>\n",
       "    <tr style=\"text-align: right;\">\n",
       "      <th></th>\n",
       "      <th>Name</th>\n",
       "      <th>Age</th>\n",
       "      <th>City</th>\n",
       "    </tr>\n",
       "  </thead>\n",
       "  <tbody>\n",
       "    <tr>\n",
       "      <th>0</th>\n",
       "      <td>Uditya</td>\n",
       "      <td>30</td>\n",
       "      <td>Mumbai</td>\n",
       "    </tr>\n",
       "    <tr>\n",
       "      <th>1</th>\n",
       "      <td>Ram</td>\n",
       "      <td>35</td>\n",
       "      <td>Jaunpur</td>\n",
       "    </tr>\n",
       "    <tr>\n",
       "      <th>2</th>\n",
       "      <td>Jack</td>\n",
       "      <td>40</td>\n",
       "      <td>Bhopal</td>\n",
       "    </tr>\n",
       "  </tbody>\n",
       "</table>\n",
       "</div>"
      ],
      "text/plain": [
       "     Name  Age     City\n",
       "0  Uditya   30   Mumbai\n",
       "1     Ram   35  Jaunpur\n",
       "2    Jack   40   Bhopal"
      ]
     },
     "execution_count": 49,
     "metadata": {},
     "output_type": "execute_result"
    }
   ],
   "source": [
    "df"
   ]
  },
  {
   "cell_type": "code",
   "execution_count": 51,
   "id": "0456388f",
   "metadata": {},
   "outputs": [
    {
     "data": {
      "text/html": [
       "<div>\n",
       "<style scoped>\n",
       "    .dataframe tbody tr th:only-of-type {\n",
       "        vertical-align: middle;\n",
       "    }\n",
       "\n",
       "    .dataframe tbody tr th {\n",
       "        vertical-align: top;\n",
       "    }\n",
       "\n",
       "    .dataframe thead th {\n",
       "        text-align: right;\n",
       "    }\n",
       "</style>\n",
       "<table border=\"1\" class=\"dataframe\">\n",
       "  <thead>\n",
       "    <tr style=\"text-align: right;\">\n",
       "      <th></th>\n",
       "      <th>Age</th>\n",
       "    </tr>\n",
       "  </thead>\n",
       "  <tbody>\n",
       "    <tr>\n",
       "      <th>count</th>\n",
       "      <td>3.0</td>\n",
       "    </tr>\n",
       "    <tr>\n",
       "      <th>mean</th>\n",
       "      <td>35.0</td>\n",
       "    </tr>\n",
       "    <tr>\n",
       "      <th>std</th>\n",
       "      <td>5.0</td>\n",
       "    </tr>\n",
       "    <tr>\n",
       "      <th>min</th>\n",
       "      <td>30.0</td>\n",
       "    </tr>\n",
       "    <tr>\n",
       "      <th>25%</th>\n",
       "      <td>32.5</td>\n",
       "    </tr>\n",
       "    <tr>\n",
       "      <th>50%</th>\n",
       "      <td>35.0</td>\n",
       "    </tr>\n",
       "    <tr>\n",
       "      <th>75%</th>\n",
       "      <td>37.5</td>\n",
       "    </tr>\n",
       "    <tr>\n",
       "      <th>max</th>\n",
       "      <td>40.0</td>\n",
       "    </tr>\n",
       "  </tbody>\n",
       "</table>\n",
       "</div>"
      ],
      "text/plain": [
       "        Age\n",
       "count   3.0\n",
       "mean   35.0\n",
       "std     5.0\n",
       "min    30.0\n",
       "25%    32.5\n",
       "50%    35.0\n",
       "75%    37.5\n",
       "max    40.0"
      ]
     },
     "execution_count": 51,
     "metadata": {},
     "output_type": "execute_result"
    }
   ],
   "source": [
    "df.describe()"
   ]
  },
  {
   "cell_type": "code",
   "execution_count": null,
   "id": "6420197f",
   "metadata": {},
   "outputs": [],
   "source": []
  }
 ],
 "metadata": {
  "kernelspec": {
   "display_name": "Python 3",
   "language": "python",
   "name": "python3"
  },
  "language_info": {
   "codemirror_mode": {
    "name": "ipython",
    "version": 3
   },
   "file_extension": ".py",
   "mimetype": "text/x-python",
   "name": "python",
   "nbconvert_exporter": "python",
   "pygments_lexer": "ipython3",
   "version": "3.10.0"
  }
 },
 "nbformat": 4,
 "nbformat_minor": 5
}
