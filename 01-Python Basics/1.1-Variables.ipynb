{
 "cells": [
  {
   "cell_type": "markdown",
   "metadata": {},
   "source": [
    "## Variables"
   ]
  },
  {
   "cell_type": "markdown",
   "metadata": {},
   "source": [
    "Variables are fundamental elements in programming used to store data that can be referenced and manipulated in a program. In python, vaariables are created when you assing a value to them, and they do not need explicit declatation to reserve memory space. The declaration happencs automatically when you assign a value to a variable."
   ]
  },
  {
   "cell_type": "code",
   "execution_count": 1,
   "metadata": {},
   "outputs": [
    {
     "name": "stdout",
     "output_type": "stream",
     "text": [
      "Age: 32\n",
      "Height: 5.11\n",
      "Name: Uditya\n"
     ]
    }
   ],
   "source": [
    "# Creating and assinging the variable\n",
    "age =32  \n",
    "height = 5.11\n",
    "name = \"Uditya\"\n",
    "is_student = True\n",
    "\n",
    "# printing hte variables\n",
    "print(\"Age:\",age)\n",
    "print(\"Height:\",height)\n",
    "print(\"Name:\",name)\n"
   ]
  },
  {
   "cell_type": "code",
   "execution_count": 2,
   "metadata": {},
   "outputs": [
    {
     "name": "stdout",
     "output_type": "stream",
     "text": [
      "Uditya Narayan Tiwari\n"
     ]
    }
   ],
   "source": [
    "# Naming Conventions\n",
    "# Variable names should be descriptive\n",
    "# The must start with a letter or an '_' and  contain letter, numbers and underscore \n",
    "# Variables names are case sensitive\n",
    "\n",
    "first_name = \"Uditya Narayan\"\n",
    "last_name = \"Tiwari\"\n",
    "\n",
    "print(first_name, last_name)\n"
   ]
  },
  {
   "cell_type": "code",
   "execution_count": 3,
   "metadata": {},
   "outputs": [],
   "source": [
    "# Python is dynamically typed of a variable is dermined at runtime  \n",
    "age = 25 #int\n",
    "height = 6.0 #float\n",
    "name = \"Uditya\" # str\n",
    "is_student = True # bool\n"
   ]
  },
  {
   "cell_type": "code",
   "execution_count": 4,
   "metadata": {},
   "outputs": [
    {
     "name": "stdout",
     "output_type": "stream",
     "text": [
      "<class 'str'>\n",
      "<class 'int'>\n"
     ]
    }
   ],
   "source": [
    "# Type conversion\n",
    "age = str(age)\n",
    "print(type(age))\n",
    "\n",
    "# Convert the str to int\n",
    "age = int(age)\n",
    "print(type(age))"
   ]
  },
  {
   "cell_type": "code",
   "execution_count": 5,
   "metadata": {},
   "outputs": [
    {
     "name": "stdout",
     "output_type": "stream",
     "text": [
      "10 <class 'int'>\n",
      "Hello <class 'str'>\n",
      "3.14 <class 'float'>\n"
     ]
    }
   ],
   "source": [
    "# Dynamic Typing\n",
    "# Python allows the type of a variable to change as the program executes\n",
    "var = 10\n",
    "print(var, type(var))\n",
    "\n",
    "var  = 'Hello'\n",
    "print(var, type(var))\n",
    "\n",
    "var = 3.14\n",
    "print(var, type(var))\n",
    "\n"
   ]
  },
  {
   "cell_type": "code",
   "execution_count": 6,
   "metadata": {},
   "outputs": [
    {
     "name": "stdout",
     "output_type": "stream",
     "text": [
      "34 <class 'int'>\n"
     ]
    }
   ],
   "source": [
    "# Taking input\n",
    "age = int(input(\"What is the age: \"))\n",
    "print(age, type(age))\n"
   ]
  },
  {
   "cell_type": "code",
   "execution_count": 7,
   "metadata": {},
   "outputs": [
    {
     "name": "stdout",
     "output_type": "stream",
     "text": [
      "Sum: 77\n",
      "Difference: -9\n",
      "Product: 1462\n",
      "Quotient: 0.7906976744186046\n"
     ]
    }
   ],
   "source": [
    "# Simple Calculator \n",
    "num1 = int(input(\"Enter the First number: \"))\n",
    "num2 = int(input(\"Enter the Second number: \"))\n",
    "\n",
    "Sum = num1+num2\n",
    "Difference = num1-num2\n",
    "Product = num1*num2\n",
    "Quotient = num1/num2\n",
    "\n",
    "print(\"Sum:\",Sum)\n",
    "print(\"Difference:\",Difference)\n",
    "print(\"Product:\",Product)\n",
    "print(\"Quotient:\",Quotient)\n"
   ]
  }
 ],
 "metadata": {
  "kernelspec": {
   "display_name": "Python 3",
   "language": "python",
   "name": "python3"
  },
  "language_info": {
   "codemirror_mode": {
    "name": "ipython",
    "version": 3
   },
   "file_extension": ".py",
   "mimetype": "text/x-python",
   "name": "python",
   "nbconvert_exporter": "python",
   "pygments_lexer": "ipython3",
   "version": "3.10.0"
  }
 },
 "nbformat": 4,
 "nbformat_minor": 2
}
